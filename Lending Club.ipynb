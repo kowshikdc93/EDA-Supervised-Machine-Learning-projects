{
 "cells": [
  {
   "cell_type": "code",
   "execution_count": 1,
   "metadata": {},
   "outputs": [],
   "source": [
    "#importing all relevant libraries\n",
    "\n",
    "import pandas as pd\n",
    "import numpy as np\n",
    "import matplotlib.pyplot as plt\n",
    "import seaborn as sns\n",
    "import warnings\n",
    "warnings.filterwarnings('ignore')\n",
    "import datetime\n",
    "%matplotlib inline"
   ]
  },
  {
   "cell_type": "code",
   "execution_count": 5,
   "metadata": {},
   "outputs": [
    {
     "data": {
      "text/html": [
       "<div>\n",
       "<style scoped>\n",
       "    .dataframe tbody tr th:only-of-type {\n",
       "        vertical-align: middle;\n",
       "    }\n",
       "\n",
       "    .dataframe tbody tr th {\n",
       "        vertical-align: top;\n",
       "    }\n",
       "\n",
       "    .dataframe thead th {\n",
       "        text-align: right;\n",
       "    }\n",
       "</style>\n",
       "<table border=\"1\" class=\"dataframe\">\n",
       "  <thead>\n",
       "    <tr style=\"text-align: right;\">\n",
       "      <th></th>\n",
       "      <th>id</th>\n",
       "      <th>member_id</th>\n",
       "      <th>loan_amnt</th>\n",
       "      <th>funded_amnt</th>\n",
       "      <th>funded_amnt_inv</th>\n",
       "      <th>term</th>\n",
       "      <th>int_rate</th>\n",
       "      <th>installment</th>\n",
       "      <th>grade</th>\n",
       "      <th>sub_grade</th>\n",
       "      <th>emp_title</th>\n",
       "      <th>emp_length</th>\n",
       "      <th>home_ownership</th>\n",
       "      <th>annual_inc</th>\n",
       "      <th>verification_status</th>\n",
       "      <th>issue_d</th>\n",
       "      <th>loan_status</th>\n",
       "      <th>...</th>\n",
       "      <th>num_il_tl</th>\n",
       "      <th>num_op_rev_tl</th>\n",
       "      <th>num_rev_accts</th>\n",
       "      <th>num_rev_tl_bal_gt_0</th>\n",
       "      <th>num_sats</th>\n",
       "      <th>num_tl_120dpd_2m</th>\n",
       "      <th>num_tl_30dpd</th>\n",
       "      <th>num_tl_90g_dpd_24m</th>\n",
       "      <th>num_tl_op_past_12m</th>\n",
       "      <th>pct_tl_nvr_dlq</th>\n",
       "      <th>percent_bc_gt_75</th>\n",
       "      <th>pub_rec_bankruptcies</th>\n",
       "      <th>tax_liens</th>\n",
       "      <th>tot_hi_cred_lim</th>\n",
       "      <th>total_bal_ex_mort</th>\n",
       "      <th>total_bc_limit</th>\n",
       "      <th>total_il_high_credit_limit</th>\n",
       "    </tr>\n",
       "  </thead>\n",
       "  <tbody>\n",
       "    <tr>\n",
       "      <th>0</th>\n",
       "      <td>1077501</td>\n",
       "      <td>1296599</td>\n",
       "      <td>5000</td>\n",
       "      <td>5000</td>\n",
       "      <td>4975.0</td>\n",
       "      <td>36 months</td>\n",
       "      <td>10.65%</td>\n",
       "      <td>162.87</td>\n",
       "      <td>B</td>\n",
       "      <td>B2</td>\n",
       "      <td>NaN</td>\n",
       "      <td>10+ years</td>\n",
       "      <td>RENT</td>\n",
       "      <td>24000.0</td>\n",
       "      <td>Verified</td>\n",
       "      <td>Dec-11</td>\n",
       "      <td>Fully Paid</td>\n",
       "      <td>...</td>\n",
       "      <td>NaN</td>\n",
       "      <td>NaN</td>\n",
       "      <td>NaN</td>\n",
       "      <td>NaN</td>\n",
       "      <td>NaN</td>\n",
       "      <td>NaN</td>\n",
       "      <td>NaN</td>\n",
       "      <td>NaN</td>\n",
       "      <td>NaN</td>\n",
       "      <td>NaN</td>\n",
       "      <td>NaN</td>\n",
       "      <td>0.0</td>\n",
       "      <td>0.0</td>\n",
       "      <td>NaN</td>\n",
       "      <td>NaN</td>\n",
       "      <td>NaN</td>\n",
       "      <td>NaN</td>\n",
       "    </tr>\n",
       "    <tr>\n",
       "      <th>1</th>\n",
       "      <td>1077430</td>\n",
       "      <td>1314167</td>\n",
       "      <td>2500</td>\n",
       "      <td>2500</td>\n",
       "      <td>2500.0</td>\n",
       "      <td>60 months</td>\n",
       "      <td>15.27%</td>\n",
       "      <td>59.83</td>\n",
       "      <td>C</td>\n",
       "      <td>C4</td>\n",
       "      <td>Ryder</td>\n",
       "      <td>&lt; 1 year</td>\n",
       "      <td>RENT</td>\n",
       "      <td>30000.0</td>\n",
       "      <td>Source Verified</td>\n",
       "      <td>Dec-11</td>\n",
       "      <td>Charged Off</td>\n",
       "      <td>...</td>\n",
       "      <td>NaN</td>\n",
       "      <td>NaN</td>\n",
       "      <td>NaN</td>\n",
       "      <td>NaN</td>\n",
       "      <td>NaN</td>\n",
       "      <td>NaN</td>\n",
       "      <td>NaN</td>\n",
       "      <td>NaN</td>\n",
       "      <td>NaN</td>\n",
       "      <td>NaN</td>\n",
       "      <td>NaN</td>\n",
       "      <td>0.0</td>\n",
       "      <td>0.0</td>\n",
       "      <td>NaN</td>\n",
       "      <td>NaN</td>\n",
       "      <td>NaN</td>\n",
       "      <td>NaN</td>\n",
       "    </tr>\n",
       "    <tr>\n",
       "      <th>2</th>\n",
       "      <td>1077175</td>\n",
       "      <td>1313524</td>\n",
       "      <td>2400</td>\n",
       "      <td>2400</td>\n",
       "      <td>2400.0</td>\n",
       "      <td>36 months</td>\n",
       "      <td>15.96%</td>\n",
       "      <td>84.33</td>\n",
       "      <td>C</td>\n",
       "      <td>C5</td>\n",
       "      <td>NaN</td>\n",
       "      <td>10+ years</td>\n",
       "      <td>RENT</td>\n",
       "      <td>12252.0</td>\n",
       "      <td>Not Verified</td>\n",
       "      <td>Dec-11</td>\n",
       "      <td>Fully Paid</td>\n",
       "      <td>...</td>\n",
       "      <td>NaN</td>\n",
       "      <td>NaN</td>\n",
       "      <td>NaN</td>\n",
       "      <td>NaN</td>\n",
       "      <td>NaN</td>\n",
       "      <td>NaN</td>\n",
       "      <td>NaN</td>\n",
       "      <td>NaN</td>\n",
       "      <td>NaN</td>\n",
       "      <td>NaN</td>\n",
       "      <td>NaN</td>\n",
       "      <td>0.0</td>\n",
       "      <td>0.0</td>\n",
       "      <td>NaN</td>\n",
       "      <td>NaN</td>\n",
       "      <td>NaN</td>\n",
       "      <td>NaN</td>\n",
       "    </tr>\n",
       "    <tr>\n",
       "      <th>3</th>\n",
       "      <td>1076863</td>\n",
       "      <td>1277178</td>\n",
       "      <td>10000</td>\n",
       "      <td>10000</td>\n",
       "      <td>10000.0</td>\n",
       "      <td>36 months</td>\n",
       "      <td>13.49%</td>\n",
       "      <td>339.31</td>\n",
       "      <td>C</td>\n",
       "      <td>C1</td>\n",
       "      <td>AIR RESOURCES BOARD</td>\n",
       "      <td>10+ years</td>\n",
       "      <td>RENT</td>\n",
       "      <td>49200.0</td>\n",
       "      <td>Source Verified</td>\n",
       "      <td>Dec-11</td>\n",
       "      <td>Fully Paid</td>\n",
       "      <td>...</td>\n",
       "      <td>NaN</td>\n",
       "      <td>NaN</td>\n",
       "      <td>NaN</td>\n",
       "      <td>NaN</td>\n",
       "      <td>NaN</td>\n",
       "      <td>NaN</td>\n",
       "      <td>NaN</td>\n",
       "      <td>NaN</td>\n",
       "      <td>NaN</td>\n",
       "      <td>NaN</td>\n",
       "      <td>NaN</td>\n",
       "      <td>0.0</td>\n",
       "      <td>0.0</td>\n",
       "      <td>NaN</td>\n",
       "      <td>NaN</td>\n",
       "      <td>NaN</td>\n",
       "      <td>NaN</td>\n",
       "    </tr>\n",
       "    <tr>\n",
       "      <th>4</th>\n",
       "      <td>1075358</td>\n",
       "      <td>1311748</td>\n",
       "      <td>3000</td>\n",
       "      <td>3000</td>\n",
       "      <td>3000.0</td>\n",
       "      <td>60 months</td>\n",
       "      <td>12.69%</td>\n",
       "      <td>67.79</td>\n",
       "      <td>B</td>\n",
       "      <td>B5</td>\n",
       "      <td>University Medical Group</td>\n",
       "      <td>1 year</td>\n",
       "      <td>RENT</td>\n",
       "      <td>80000.0</td>\n",
       "      <td>Source Verified</td>\n",
       "      <td>Dec-11</td>\n",
       "      <td>Current</td>\n",
       "      <td>...</td>\n",
       "      <td>NaN</td>\n",
       "      <td>NaN</td>\n",
       "      <td>NaN</td>\n",
       "      <td>NaN</td>\n",
       "      <td>NaN</td>\n",
       "      <td>NaN</td>\n",
       "      <td>NaN</td>\n",
       "      <td>NaN</td>\n",
       "      <td>NaN</td>\n",
       "      <td>NaN</td>\n",
       "      <td>NaN</td>\n",
       "      <td>0.0</td>\n",
       "      <td>0.0</td>\n",
       "      <td>NaN</td>\n",
       "      <td>NaN</td>\n",
       "      <td>NaN</td>\n",
       "      <td>NaN</td>\n",
       "    </tr>\n",
       "    <tr>\n",
       "      <th>...</th>\n",
       "      <td>...</td>\n",
       "      <td>...</td>\n",
       "      <td>...</td>\n",
       "      <td>...</td>\n",
       "      <td>...</td>\n",
       "      <td>...</td>\n",
       "      <td>...</td>\n",
       "      <td>...</td>\n",
       "      <td>...</td>\n",
       "      <td>...</td>\n",
       "      <td>...</td>\n",
       "      <td>...</td>\n",
       "      <td>...</td>\n",
       "      <td>...</td>\n",
       "      <td>...</td>\n",
       "      <td>...</td>\n",
       "      <td>...</td>\n",
       "      <td>...</td>\n",
       "      <td>...</td>\n",
       "      <td>...</td>\n",
       "      <td>...</td>\n",
       "      <td>...</td>\n",
       "      <td>...</td>\n",
       "      <td>...</td>\n",
       "      <td>...</td>\n",
       "      <td>...</td>\n",
       "      <td>...</td>\n",
       "      <td>...</td>\n",
       "      <td>...</td>\n",
       "      <td>...</td>\n",
       "      <td>...</td>\n",
       "      <td>...</td>\n",
       "      <td>...</td>\n",
       "      <td>...</td>\n",
       "      <td>...</td>\n",
       "    </tr>\n",
       "    <tr>\n",
       "      <th>39712</th>\n",
       "      <td>92187</td>\n",
       "      <td>92174</td>\n",
       "      <td>2500</td>\n",
       "      <td>2500</td>\n",
       "      <td>1075.0</td>\n",
       "      <td>36 months</td>\n",
       "      <td>8.07%</td>\n",
       "      <td>78.42</td>\n",
       "      <td>A</td>\n",
       "      <td>A4</td>\n",
       "      <td>FiSite Research</td>\n",
       "      <td>4 years</td>\n",
       "      <td>MORTGAGE</td>\n",
       "      <td>110000.0</td>\n",
       "      <td>Not Verified</td>\n",
       "      <td>Jul-07</td>\n",
       "      <td>Fully Paid</td>\n",
       "      <td>...</td>\n",
       "      <td>NaN</td>\n",
       "      <td>NaN</td>\n",
       "      <td>NaN</td>\n",
       "      <td>NaN</td>\n",
       "      <td>NaN</td>\n",
       "      <td>NaN</td>\n",
       "      <td>NaN</td>\n",
       "      <td>NaN</td>\n",
       "      <td>NaN</td>\n",
       "      <td>NaN</td>\n",
       "      <td>NaN</td>\n",
       "      <td>NaN</td>\n",
       "      <td>NaN</td>\n",
       "      <td>NaN</td>\n",
       "      <td>NaN</td>\n",
       "      <td>NaN</td>\n",
       "      <td>NaN</td>\n",
       "    </tr>\n",
       "    <tr>\n",
       "      <th>39713</th>\n",
       "      <td>90665</td>\n",
       "      <td>90607</td>\n",
       "      <td>8500</td>\n",
       "      <td>8500</td>\n",
       "      <td>875.0</td>\n",
       "      <td>36 months</td>\n",
       "      <td>10.28%</td>\n",
       "      <td>275.38</td>\n",
       "      <td>C</td>\n",
       "      <td>C1</td>\n",
       "      <td>Squarewave Solutions, Ltd.</td>\n",
       "      <td>3 years</td>\n",
       "      <td>RENT</td>\n",
       "      <td>18000.0</td>\n",
       "      <td>Not Verified</td>\n",
       "      <td>Jul-07</td>\n",
       "      <td>Fully Paid</td>\n",
       "      <td>...</td>\n",
       "      <td>NaN</td>\n",
       "      <td>NaN</td>\n",
       "      <td>NaN</td>\n",
       "      <td>NaN</td>\n",
       "      <td>NaN</td>\n",
       "      <td>NaN</td>\n",
       "      <td>NaN</td>\n",
       "      <td>NaN</td>\n",
       "      <td>NaN</td>\n",
       "      <td>NaN</td>\n",
       "      <td>NaN</td>\n",
       "      <td>NaN</td>\n",
       "      <td>NaN</td>\n",
       "      <td>NaN</td>\n",
       "      <td>NaN</td>\n",
       "      <td>NaN</td>\n",
       "      <td>NaN</td>\n",
       "    </tr>\n",
       "    <tr>\n",
       "      <th>39714</th>\n",
       "      <td>90395</td>\n",
       "      <td>90390</td>\n",
       "      <td>5000</td>\n",
       "      <td>5000</td>\n",
       "      <td>1325.0</td>\n",
       "      <td>36 months</td>\n",
       "      <td>8.07%</td>\n",
       "      <td>156.84</td>\n",
       "      <td>A</td>\n",
       "      <td>A4</td>\n",
       "      <td>NaN</td>\n",
       "      <td>&lt; 1 year</td>\n",
       "      <td>MORTGAGE</td>\n",
       "      <td>100000.0</td>\n",
       "      <td>Not Verified</td>\n",
       "      <td>Jul-07</td>\n",
       "      <td>Fully Paid</td>\n",
       "      <td>...</td>\n",
       "      <td>NaN</td>\n",
       "      <td>NaN</td>\n",
       "      <td>NaN</td>\n",
       "      <td>NaN</td>\n",
       "      <td>NaN</td>\n",
       "      <td>NaN</td>\n",
       "      <td>NaN</td>\n",
       "      <td>NaN</td>\n",
       "      <td>NaN</td>\n",
       "      <td>NaN</td>\n",
       "      <td>NaN</td>\n",
       "      <td>NaN</td>\n",
       "      <td>NaN</td>\n",
       "      <td>NaN</td>\n",
       "      <td>NaN</td>\n",
       "      <td>NaN</td>\n",
       "      <td>NaN</td>\n",
       "    </tr>\n",
       "    <tr>\n",
       "      <th>39715</th>\n",
       "      <td>90376</td>\n",
       "      <td>89243</td>\n",
       "      <td>5000</td>\n",
       "      <td>5000</td>\n",
       "      <td>650.0</td>\n",
       "      <td>36 months</td>\n",
       "      <td>7.43%</td>\n",
       "      <td>155.38</td>\n",
       "      <td>A</td>\n",
       "      <td>A2</td>\n",
       "      <td>NaN</td>\n",
       "      <td>&lt; 1 year</td>\n",
       "      <td>MORTGAGE</td>\n",
       "      <td>200000.0</td>\n",
       "      <td>Not Verified</td>\n",
       "      <td>Jul-07</td>\n",
       "      <td>Fully Paid</td>\n",
       "      <td>...</td>\n",
       "      <td>NaN</td>\n",
       "      <td>NaN</td>\n",
       "      <td>NaN</td>\n",
       "      <td>NaN</td>\n",
       "      <td>NaN</td>\n",
       "      <td>NaN</td>\n",
       "      <td>NaN</td>\n",
       "      <td>NaN</td>\n",
       "      <td>NaN</td>\n",
       "      <td>NaN</td>\n",
       "      <td>NaN</td>\n",
       "      <td>NaN</td>\n",
       "      <td>NaN</td>\n",
       "      <td>NaN</td>\n",
       "      <td>NaN</td>\n",
       "      <td>NaN</td>\n",
       "      <td>NaN</td>\n",
       "    </tr>\n",
       "    <tr>\n",
       "      <th>39716</th>\n",
       "      <td>87023</td>\n",
       "      <td>86999</td>\n",
       "      <td>7500</td>\n",
       "      <td>7500</td>\n",
       "      <td>800.0</td>\n",
       "      <td>36 months</td>\n",
       "      <td>13.75%</td>\n",
       "      <td>255.43</td>\n",
       "      <td>E</td>\n",
       "      <td>E2</td>\n",
       "      <td>Evergreen Center</td>\n",
       "      <td>&lt; 1 year</td>\n",
       "      <td>OWN</td>\n",
       "      <td>22000.0</td>\n",
       "      <td>Not Verified</td>\n",
       "      <td>Jun-07</td>\n",
       "      <td>Fully Paid</td>\n",
       "      <td>...</td>\n",
       "      <td>NaN</td>\n",
       "      <td>NaN</td>\n",
       "      <td>NaN</td>\n",
       "      <td>NaN</td>\n",
       "      <td>NaN</td>\n",
       "      <td>NaN</td>\n",
       "      <td>NaN</td>\n",
       "      <td>NaN</td>\n",
       "      <td>NaN</td>\n",
       "      <td>NaN</td>\n",
       "      <td>NaN</td>\n",
       "      <td>NaN</td>\n",
       "      <td>NaN</td>\n",
       "      <td>NaN</td>\n",
       "      <td>NaN</td>\n",
       "      <td>NaN</td>\n",
       "      <td>NaN</td>\n",
       "    </tr>\n",
       "  </tbody>\n",
       "</table>\n",
       "<p>39717 rows × 111 columns</p>\n",
       "</div>"
      ],
      "text/plain": [
       "            id  member_id  loan_amnt  funded_amnt  funded_amnt_inv  \\\n",
       "0      1077501    1296599       5000         5000           4975.0   \n",
       "1      1077430    1314167       2500         2500           2500.0   \n",
       "2      1077175    1313524       2400         2400           2400.0   \n",
       "3      1076863    1277178      10000        10000          10000.0   \n",
       "4      1075358    1311748       3000         3000           3000.0   \n",
       "...        ...        ...        ...          ...              ...   \n",
       "39712    92187      92174       2500         2500           1075.0   \n",
       "39713    90665      90607       8500         8500            875.0   \n",
       "39714    90395      90390       5000         5000           1325.0   \n",
       "39715    90376      89243       5000         5000            650.0   \n",
       "39716    87023      86999       7500         7500            800.0   \n",
       "\n",
       "             term int_rate  installment grade sub_grade  \\\n",
       "0       36 months   10.65%       162.87     B        B2   \n",
       "1       60 months   15.27%        59.83     C        C4   \n",
       "2       36 months   15.96%        84.33     C        C5   \n",
       "3       36 months   13.49%       339.31     C        C1   \n",
       "4       60 months   12.69%        67.79     B        B5   \n",
       "...           ...      ...          ...   ...       ...   \n",
       "39712   36 months    8.07%        78.42     A        A4   \n",
       "39713   36 months   10.28%       275.38     C        C1   \n",
       "39714   36 months    8.07%       156.84     A        A4   \n",
       "39715   36 months    7.43%       155.38     A        A2   \n",
       "39716   36 months   13.75%       255.43     E        E2   \n",
       "\n",
       "                        emp_title emp_length home_ownership  annual_inc  \\\n",
       "0                             NaN  10+ years           RENT     24000.0   \n",
       "1                           Ryder   < 1 year           RENT     30000.0   \n",
       "2                             NaN  10+ years           RENT     12252.0   \n",
       "3             AIR RESOURCES BOARD  10+ years           RENT     49200.0   \n",
       "4        University Medical Group     1 year           RENT     80000.0   \n",
       "...                           ...        ...            ...         ...   \n",
       "39712             FiSite Research    4 years       MORTGAGE    110000.0   \n",
       "39713  Squarewave Solutions, Ltd.    3 years           RENT     18000.0   \n",
       "39714                         NaN   < 1 year       MORTGAGE    100000.0   \n",
       "39715                         NaN   < 1 year       MORTGAGE    200000.0   \n",
       "39716            Evergreen Center   < 1 year            OWN     22000.0   \n",
       "\n",
       "      verification_status issue_d  loan_status  ... num_il_tl num_op_rev_tl  \\\n",
       "0                Verified  Dec-11   Fully Paid  ...       NaN           NaN   \n",
       "1         Source Verified  Dec-11  Charged Off  ...       NaN           NaN   \n",
       "2            Not Verified  Dec-11   Fully Paid  ...       NaN           NaN   \n",
       "3         Source Verified  Dec-11   Fully Paid  ...       NaN           NaN   \n",
       "4         Source Verified  Dec-11      Current  ...       NaN           NaN   \n",
       "...                   ...     ...          ...  ...       ...           ...   \n",
       "39712        Not Verified  Jul-07   Fully Paid  ...       NaN           NaN   \n",
       "39713        Not Verified  Jul-07   Fully Paid  ...       NaN           NaN   \n",
       "39714        Not Verified  Jul-07   Fully Paid  ...       NaN           NaN   \n",
       "39715        Not Verified  Jul-07   Fully Paid  ...       NaN           NaN   \n",
       "39716        Not Verified  Jun-07   Fully Paid  ...       NaN           NaN   \n",
       "\n",
       "      num_rev_accts num_rev_tl_bal_gt_0 num_sats num_tl_120dpd_2m  \\\n",
       "0               NaN                 NaN      NaN              NaN   \n",
       "1               NaN                 NaN      NaN              NaN   \n",
       "2               NaN                 NaN      NaN              NaN   \n",
       "3               NaN                 NaN      NaN              NaN   \n",
       "4               NaN                 NaN      NaN              NaN   \n",
       "...             ...                 ...      ...              ...   \n",
       "39712           NaN                 NaN      NaN              NaN   \n",
       "39713           NaN                 NaN      NaN              NaN   \n",
       "39714           NaN                 NaN      NaN              NaN   \n",
       "39715           NaN                 NaN      NaN              NaN   \n",
       "39716           NaN                 NaN      NaN              NaN   \n",
       "\n",
       "      num_tl_30dpd  num_tl_90g_dpd_24m  num_tl_op_past_12m pct_tl_nvr_dlq  \\\n",
       "0              NaN                 NaN                 NaN            NaN   \n",
       "1              NaN                 NaN                 NaN            NaN   \n",
       "2              NaN                 NaN                 NaN            NaN   \n",
       "3              NaN                 NaN                 NaN            NaN   \n",
       "4              NaN                 NaN                 NaN            NaN   \n",
       "...            ...                 ...                 ...            ...   \n",
       "39712          NaN                 NaN                 NaN            NaN   \n",
       "39713          NaN                 NaN                 NaN            NaN   \n",
       "39714          NaN                 NaN                 NaN            NaN   \n",
       "39715          NaN                 NaN                 NaN            NaN   \n",
       "39716          NaN                 NaN                 NaN            NaN   \n",
       "\n",
       "       percent_bc_gt_75  pub_rec_bankruptcies  tax_liens  tot_hi_cred_lim  \\\n",
       "0                   NaN                   0.0        0.0              NaN   \n",
       "1                   NaN                   0.0        0.0              NaN   \n",
       "2                   NaN                   0.0        0.0              NaN   \n",
       "3                   NaN                   0.0        0.0              NaN   \n",
       "4                   NaN                   0.0        0.0              NaN   \n",
       "...                 ...                   ...        ...              ...   \n",
       "39712               NaN                   NaN        NaN              NaN   \n",
       "39713               NaN                   NaN        NaN              NaN   \n",
       "39714               NaN                   NaN        NaN              NaN   \n",
       "39715               NaN                   NaN        NaN              NaN   \n",
       "39716               NaN                   NaN        NaN              NaN   \n",
       "\n",
       "       total_bal_ex_mort  total_bc_limit total_il_high_credit_limit  \n",
       "0                    NaN             NaN                        NaN  \n",
       "1                    NaN             NaN                        NaN  \n",
       "2                    NaN             NaN                        NaN  \n",
       "3                    NaN             NaN                        NaN  \n",
       "4                    NaN             NaN                        NaN  \n",
       "...                  ...             ...                        ...  \n",
       "39712                NaN             NaN                        NaN  \n",
       "39713                NaN             NaN                        NaN  \n",
       "39714                NaN             NaN                        NaN  \n",
       "39715                NaN             NaN                        NaN  \n",
       "39716                NaN             NaN                        NaN  \n",
       "\n",
       "[39717 rows x 111 columns]"
      ]
     },
     "execution_count": 5,
     "metadata": {},
     "output_type": "execute_result"
    }
   ],
   "source": [
    "#loading dataset primarily in the name 'df'\n",
    "\n",
    "df = pd.read_csv('loan.csv')\n",
    "pd.set_option('display.max_columns', 35)\n",
    "df"
   ]
  },
  {
   "cell_type": "code",
   "execution_count": 6,
   "metadata": {},
   "outputs": [],
   "source": [
    "#Cleaning dataset & Sanity Check\n",
    "\n",
    "df['int_rate'] = df['int_rate'].apply(lambda x: float(x[:-1]) if x[-1]=='%' else None)\n",
    "\n",
    "df['revol_util'] = df['revol_util'].str.replace('%', '')\n",
    "df['revol_util']= df['revol_util'].astype('float64')\n",
    "\n",
    "df['term'] = df['term'].str.replace('months', '')\n",
    "df['term'] = df['term'].astype('int32')\n",
    "\n",
    "df['pub_rec_bankruptcies'] = df['pub_rec_bankruptcies'].fillna(df['pub_rec_bankruptcies'].mode()[0])\n",
    "#no. of bankruptcy is an ordered categorical data and since in this dataset majority have zero record of bankruptcies, so its good to use mode value to impute missing values.\n",
    "\n",
    "df['emp_length'] = df['emp_length'].str.replace('< 1 year', '1 year')\n",
    "\n",
    "\n",
    "df = df[(df.loan_status != 'Current')] #as per Reena Duggal ma'am's advice, dropping records of those with loan_status 'Current' \n",
    "df = df[~((df.emp_length.isnull()) | (df.last_pymnt_d.isnull()) | (df.revol_util.isnull()))]"
   ]
  },
  {
   "cell_type": "code",
   "execution_count": 7,
   "metadata": {},
   "outputs": [],
   "source": [
    "\n",
    "#fixing datatype of loan issuing date and last payment date; and also taking their difference as a variable\n",
    "df['issue_d'] = pd.to_datetime(df['issue_d'], format='%b-%y')\n",
    "df['issue_month'] = df['issue_d'].dt.month #Derived Metrics\n",
    "df['issue_year'] = df['issue_d'].dt.year #Derived Metrics\n",
    "\n",
    "df['charged_off'] = df['loan_status'].map({'Charged Off': 1, 'Fully Paid': 0}) #Derived Metrics\n",
    "df['home_ownership'] = df['home_ownership'].str.replace('NONE', 'OTHER') "
   ]
  },
  {
   "cell_type": "code",
   "execution_count": 8,
   "metadata": {},
   "outputs": [
    {
     "data": {
      "text/html": [
       "<div>\n",
       "<style scoped>\n",
       "    .dataframe tbody tr th:only-of-type {\n",
       "        vertical-align: middle;\n",
       "    }\n",
       "\n",
       "    .dataframe tbody tr th {\n",
       "        vertical-align: top;\n",
       "    }\n",
       "\n",
       "    .dataframe thead th {\n",
       "        text-align: right;\n",
       "    }\n",
       "</style>\n",
       "<table border=\"1\" class=\"dataframe\">\n",
       "  <thead>\n",
       "    <tr style=\"text-align: right;\">\n",
       "      <th></th>\n",
       "      <th>id</th>\n",
       "      <th>addr_state</th>\n",
       "      <th>grade</th>\n",
       "      <th>sub_grade</th>\n",
       "      <th>loan_amnt</th>\n",
       "      <th>funded_amnt_inv</th>\n",
       "      <th>int_rate</th>\n",
       "      <th>term</th>\n",
       "      <th>installment</th>\n",
       "      <th>loan_status</th>\n",
       "      <th>charged_off</th>\n",
       "      <th>purpose</th>\n",
       "      <th>annual_inc</th>\n",
       "      <th>verification_status</th>\n",
       "      <th>dti</th>\n",
       "      <th>emp_length</th>\n",
       "      <th>home_ownership</th>\n",
       "      <th>total_pymnt_inv</th>\n",
       "      <th>total_rec_prncp</th>\n",
       "      <th>total_rec_int</th>\n",
       "      <th>total_rec_late_fee</th>\n",
       "      <th>recoveries</th>\n",
       "      <th>issue_year</th>\n",
       "      <th>issue_month</th>\n",
       "    </tr>\n",
       "  </thead>\n",
       "  <tbody>\n",
       "    <tr>\n",
       "      <th>0</th>\n",
       "      <td>1077501</td>\n",
       "      <td>AZ</td>\n",
       "      <td>B</td>\n",
       "      <td>B2</td>\n",
       "      <td>5000</td>\n",
       "      <td>4975.0</td>\n",
       "      <td>10.65</td>\n",
       "      <td>36</td>\n",
       "      <td>162.87</td>\n",
       "      <td>Fully Paid</td>\n",
       "      <td>0</td>\n",
       "      <td>credit_card</td>\n",
       "      <td>24000.0</td>\n",
       "      <td>Verified</td>\n",
       "      <td>27.65</td>\n",
       "      <td>10+ years</td>\n",
       "      <td>RENT</td>\n",
       "      <td>5833.84</td>\n",
       "      <td>5000.00</td>\n",
       "      <td>863.16</td>\n",
       "      <td>0.00</td>\n",
       "      <td>0.00</td>\n",
       "      <td>2011</td>\n",
       "      <td>12</td>\n",
       "    </tr>\n",
       "    <tr>\n",
       "      <th>1</th>\n",
       "      <td>1077430</td>\n",
       "      <td>GA</td>\n",
       "      <td>C</td>\n",
       "      <td>C4</td>\n",
       "      <td>2500</td>\n",
       "      <td>2500.0</td>\n",
       "      <td>15.27</td>\n",
       "      <td>60</td>\n",
       "      <td>59.83</td>\n",
       "      <td>Charged Off</td>\n",
       "      <td>1</td>\n",
       "      <td>car</td>\n",
       "      <td>30000.0</td>\n",
       "      <td>Source Verified</td>\n",
       "      <td>1.00</td>\n",
       "      <td>1 year</td>\n",
       "      <td>RENT</td>\n",
       "      <td>1008.71</td>\n",
       "      <td>456.46</td>\n",
       "      <td>435.17</td>\n",
       "      <td>0.00</td>\n",
       "      <td>117.08</td>\n",
       "      <td>2011</td>\n",
       "      <td>12</td>\n",
       "    </tr>\n",
       "    <tr>\n",
       "      <th>2</th>\n",
       "      <td>1077175</td>\n",
       "      <td>IL</td>\n",
       "      <td>C</td>\n",
       "      <td>C5</td>\n",
       "      <td>2400</td>\n",
       "      <td>2400.0</td>\n",
       "      <td>15.96</td>\n",
       "      <td>36</td>\n",
       "      <td>84.33</td>\n",
       "      <td>Fully Paid</td>\n",
       "      <td>0</td>\n",
       "      <td>small_business</td>\n",
       "      <td>12252.0</td>\n",
       "      <td>Not Verified</td>\n",
       "      <td>8.72</td>\n",
       "      <td>10+ years</td>\n",
       "      <td>RENT</td>\n",
       "      <td>3005.67</td>\n",
       "      <td>2400.00</td>\n",
       "      <td>605.67</td>\n",
       "      <td>0.00</td>\n",
       "      <td>0.00</td>\n",
       "      <td>2011</td>\n",
       "      <td>12</td>\n",
       "    </tr>\n",
       "    <tr>\n",
       "      <th>3</th>\n",
       "      <td>1076863</td>\n",
       "      <td>CA</td>\n",
       "      <td>C</td>\n",
       "      <td>C1</td>\n",
       "      <td>10000</td>\n",
       "      <td>10000.0</td>\n",
       "      <td>13.49</td>\n",
       "      <td>36</td>\n",
       "      <td>339.31</td>\n",
       "      <td>Fully Paid</td>\n",
       "      <td>0</td>\n",
       "      <td>other</td>\n",
       "      <td>49200.0</td>\n",
       "      <td>Source Verified</td>\n",
       "      <td>20.00</td>\n",
       "      <td>10+ years</td>\n",
       "      <td>RENT</td>\n",
       "      <td>12231.89</td>\n",
       "      <td>10000.00</td>\n",
       "      <td>2214.92</td>\n",
       "      <td>16.97</td>\n",
       "      <td>0.00</td>\n",
       "      <td>2011</td>\n",
       "      <td>12</td>\n",
       "    </tr>\n",
       "  </tbody>\n",
       "</table>\n",
       "</div>"
      ],
      "text/plain": [
       "        id addr_state grade sub_grade  loan_amnt  funded_amnt_inv  int_rate  \\\n",
       "0  1077501         AZ     B        B2       5000           4975.0     10.65   \n",
       "1  1077430         GA     C        C4       2500           2500.0     15.27   \n",
       "2  1077175         IL     C        C5       2400           2400.0     15.96   \n",
       "3  1076863         CA     C        C1      10000          10000.0     13.49   \n",
       "\n",
       "   term  installment  loan_status  charged_off         purpose  annual_inc  \\\n",
       "0    36       162.87   Fully Paid            0     credit_card     24000.0   \n",
       "1    60        59.83  Charged Off            1             car     30000.0   \n",
       "2    36        84.33   Fully Paid            0  small_business     12252.0   \n",
       "3    36       339.31   Fully Paid            0           other     49200.0   \n",
       "\n",
       "  verification_status    dti emp_length home_ownership  total_pymnt_inv  \\\n",
       "0            Verified  27.65  10+ years           RENT          5833.84   \n",
       "1     Source Verified   1.00     1 year           RENT          1008.71   \n",
       "2        Not Verified   8.72  10+ years           RENT          3005.67   \n",
       "3     Source Verified  20.00  10+ years           RENT         12231.89   \n",
       "\n",
       "   total_rec_prncp  total_rec_int  total_rec_late_fee  recoveries  issue_year  \\\n",
       "0          5000.00         863.16                0.00        0.00        2011   \n",
       "1           456.46         435.17                0.00      117.08        2011   \n",
       "2          2400.00         605.67                0.00        0.00        2011   \n",
       "3         10000.00        2214.92               16.97        0.00        2011   \n",
       "\n",
       "   issue_month  \n",
       "0           12  \n",
       "1           12  \n",
       "2           12  \n",
       "3           12  "
      ]
     },
     "execution_count": 8,
     "metadata": {},
     "output_type": "execute_result"
    }
   ],
   "source": [
    "# Variables we will consider to begin our analysis  \n",
    "\n",
    "data = df[['id','addr_state','grade','sub_grade','loan_amnt', 'funded_amnt_inv', 'int_rate', 'term','installment','loan_status','charged_off', 'purpose','annual_inc','verification_status' , 'dti', 'emp_length', 'home_ownership','total_pymnt_inv','total_rec_prncp','total_rec_int','total_rec_late_fee','recoveries', 'issue_year', 'issue_month']]\n",
    "data.reset_index()\n",
    "data.head(4) \n"
   ]
  },
  {
   "cell_type": "markdown",
   "metadata": {},
   "source": [
    "### Explaining the data\n",
    "\n",
    "Loan id 1077501 is of B grade had applied for USD 5000 loan and has been funded USD 5000 against 10.65% interest rate over an agreement of term 36 months with installments to be paid USD 162.87 each month. With No remaining outstanding principal, Full payment is ensured.\n",
    "The borrower has an annual income of USD 24000 (verified) with employment length over 10 years lives in rented residence. The purpose of the loan was to pay for credit card. The borrower has dti 27.65."
   ]
  },
  {
   "cell_type": "code",
   "execution_count": null,
   "metadata": {},
   "outputs": [],
   "source": []
  },
  {
   "cell_type": "code",
   "execution_count": 9,
   "metadata": {},
   "outputs": [
    {
     "data": {
      "image/png": "[encoded data removed]",
      "text/plain": [
       "<Figure size 576x432 with 1 Axes>"
      ]
     },
     "metadata": {},
     "output_type": "display_data"
    }
   ],
   "source": [
    "plt.subplots(figsize=(8,6))\n",
    "data.loan_status.value_counts().plot.pie()\n",
    "plt.show()"
   ]
  },
  {
   "cell_type": "code",
   "execution_count": 10,
   "metadata": {},
   "outputs": [
    {
     "data": {
      "text/plain": [
       "16.573"
      ]
     },
     "execution_count": 10,
     "metadata": {},
     "output_type": "execute_result"
    }
   ],
   "source": [
    "\n",
    "charged_off = data[(data['loan_status'] == 'Charged Off')]\n",
    "fully_paid = data[(data['loan_status'] == 'Fully Paid')]\n",
    "\n",
    "round(100*len(charged_off)/len(fully_paid),3)"
   ]
  },
  {
   "cell_type": "markdown",
   "metadata": {},
   "source": [
    "16.573% of past customer data is of loan status 'Charged Off'"
   ]
  },
  {
   "cell_type": "markdown",
   "metadata": {},
   "source": [
    "# Annual Income Analysis"
   ]
  },
  {
   "cell_type": "code",
   "execution_count": 48,
   "metadata": {},
   "outputs": [
    {
     "data": {
      "text/plain": [
       "0.00       4000.0\n",
       "0.25      41000.0\n",
       "0.50      60000.0\n",
       "0.75      83000.0\n",
       "1.00    6000000.0\n",
       "Name: annual_inc, dtype: float64"
      ]
     },
     "execution_count": 48,
     "metadata": {},
     "output_type": "execute_result"
    }
   ],
   "source": [
    "data['annual_inc'].quantile([0, 0.25, 0.5, 0.75, 1])"
   ]
  },
  {
   "cell_type": "code",
   "execution_count": 49,
   "metadata": {},
   "outputs": [
    {
     "data": {
      "image/png": "[encoded data removed]",
      "text/plain": [
       "<Figure size 576x432 with 1 Axes>"
      ]
     },
     "metadata": {
      "needs_background": "light"
     },
     "output_type": "display_data"
    }
   ],
   "source": [
    "#Univariate Analysis\n",
    "\n",
    "plt.subplots(figsize=(8,6))\n",
    "sns.distplot(data['annual_inc'])\n",
    "plt.show()"
   ]
  },
  {
   "cell_type": "markdown",
   "metadata": {},
   "source": [
    "We found that the dataset has outliers on the upper bound. So we will be taking data less than or equal to 95th percentile."
   ]
  },
  {
   "cell_type": "code",
   "execution_count": 50,
   "metadata": {},
   "outputs": [
    {
     "data": {
      "image/png": "[encoded data removed]",
      "text/plain": [
       "<Figure size 720x576 with 1 Axes>"
      ]
     },
     "metadata": {
      "needs_background": "light"
     },
     "output_type": "display_data"
    }
   ],
   "source": [
    "data = data[(data['annual_inc'].values) <= (data['annual_inc'].quantile(0.95))]\n",
    "\n",
    "plt.subplots(figsize=(10,8))\n",
    "sns.distplot(data['annual_inc'])\n",
    "plt.show()"
   ]
  },
  {
   "cell_type": "markdown",
   "metadata": {},
   "source": [
    "Now we can see that the annual income feature forms normal distribution, this shall help us develop better Esplanatory Data Analysis."
   ]
  },
  {
   "cell_type": "code",
   "execution_count": 51,
   "metadata": {},
   "outputs": [],
   "source": [
    "#Binning income\n",
    "income_group = ['low_income', 'mid_range_income', 'high_income']\n",
    "income_bins = [4000, 46000, 92000, 143000 ]\n",
    "\n",
    "data['income_range'] = pd.cut(data['annual_inc'], income_bins, labels= income_group)\n"
   ]
  },
  {
   "cell_type": "markdown",
   "metadata": {},
   "source": [
    "### Annual Income vs Home Ownership"
   ]
  },
  {
   "cell_type": "code",
   "execution_count": 52,
   "metadata": {},
   "outputs": [
    {
     "data": {
      "image/png": "[encoded data removed]",
      "text/plain": [
       "<Figure size 1080x720 with 1 Axes>"
      ]
     },
     "metadata": {
      "needs_background": "light"
     },
     "output_type": "display_data"
    }
   ],
   "source": [
    "#bivariate analysis\n",
    "pd.pivot_table(data= data, columns= 'income_range', values='charged_off', index='home_ownership', aggfunc= 'sum').plot(kind=\"bar\",figsize=[15,10])\n",
    "plt.xlabel('Home Ownership')\n",
    "plt.ylabel('Charged Off')\n",
    "plt.show() #Note: The values in the vertical axis of the graph is total number of “Charged-Off” cases.\n"
   ]
  },
  {
   "cell_type": "markdown",
   "metadata": {},
   "source": [
    "INSIGHT: Here we see that customers who own their home has very low tendency to default especially the ones who are in high income group. \n",
    "Customers who pays rent for their residence, are very likely to default especially the mid range income earners, followed by low income earners.\n",
    "\n",
    "Customers who has mortgage, among them the mid range income earners are most likely to default."
   ]
  },
  {
   "cell_type": "markdown",
   "metadata": {},
   "source": [
    "### Annual Income vs Address State"
   ]
  },
  {
   "cell_type": "code",
   "execution_count": 53,
   "metadata": {},
   "outputs": [
    {
     "data": {
      "image/png": "[encoded data removed]",
      "text/plain": [
       "<Figure size 1080x720 with 1 Axes>"
      ]
     },
     "metadata": {
      "needs_background": "light"
     },
     "output_type": "display_data"
    }
   ],
   "source": [
    "pd.pivot_table(data= data, columns= 'income_range', values='charged_off', index='addr_state', aggfunc= 'sum').plot(kind=\"bar\", figsize=[15,10])\n",
    "plt.show()\n",
    "\n",
    "#Note: The values in the vertical axis of the graph is total number of “Charged-Off” cases."
   ]
  },
  {
   "cell_type": "markdown",
   "metadata": {},
   "source": [
    "Insight:\n",
    "We see that population from mid range income basket yields most charged off cases; moreover, California, New York, Florida, Texas being top 4 states with very high charged off cases. \n",
    "\n",
    "\n",
    "Recommendation: LC can configure different measures upon different states to minimize the frequency."
   ]
  },
  {
   "cell_type": "markdown",
   "metadata": {},
   "source": [
    "# Default Rate Analysis"
   ]
  },
  {
   "cell_type": "markdown",
   "metadata": {},
   "source": [
    "### Loan Sub Grade vs Loan Sub Grade"
   ]
  },
  {
   "cell_type": "code",
   "execution_count": 54,
   "metadata": {},
   "outputs": [
    {
     "data": {
      "image/png": "[encoded data removed]",
      "text/plain": [
       "<Figure size 720x576 with 1 Axes>"
      ]
     },
     "metadata": {
      "needs_background": "light"
     },
     "output_type": "display_data"
    }
   ],
   "source": [
    "def_data = data.groupby('sub_grade')['charged_off'].agg(['sum', 'count'])\n",
    "def_data['default_rate'] = round(100*def_data['sum']/def_data['count'], 2)\n",
    "\n",
    "\n",
    "def_data[['default_rate']].plot.bar(figsize=(10,8), color='#64dbdb')\n",
    "plt.ylabel('Default Rate')\n",
    "plt.xlabel('Sub Grade')\n",
    "plt.show()"
   ]
  },
  {
   "cell_type": "markdown",
   "metadata": {},
   "source": [
    "Insight: Sub grades F5, G2, G3, G5 have high default rate.\n",
    "\n",
    "Recommendation: Since they these sub grade reflects risky loan so LC management can consider limiting loan amount or devise policies that can make borrower of these sub grades subject to meeting conditions in order to sanction the loan.  \n"
   ]
  },
  {
   "cell_type": "markdown",
   "metadata": {},
   "source": [
    "## Address State vs Default Rate"
   ]
  },
  {
   "cell_type": "code",
   "execution_count": 55,
   "metadata": {},
   "outputs": [
    {
     "data": {
      "image/png": "[encoded data removed]",
      "text/plain": [
       "<Figure size 1080x720 with 1 Axes>"
      ]
     },
     "metadata": {
      "needs_background": "light"
     },
     "output_type": "display_data"
    }
   ],
   "source": [
    "def_data = data.groupby('addr_state')['charged_off'].agg(['sum', 'count'])\n",
    "def_data['default_rate'] = round(100*def_data['sum']/def_data['count'], 2)\n",
    "\n",
    "\n",
    "def_data[['default_rate']].plot.bar(figsize=(15,10),color='#64dbdb')\n",
    "plt.ylabel('Default Rate')\n",
    "plt.xlabel('State')\n",
    "plt.show()"
   ]
  },
  {
   "cell_type": "markdown",
   "metadata": {},
   "source": [
    "Insight: Nebraska (NE) has quite a significant rate of default cases.\n",
    "\n",
    "Recommendation: LC can first analyze why borrower from Nebraska has such high tendency to default then formulate credit constraint measures. \n"
   ]
  },
  {
   "cell_type": "markdown",
   "metadata": {},
   "source": [
    "## Purpose vs Default Rate"
   ]
  },
  {
   "cell_type": "code",
   "execution_count": 56,
   "metadata": {},
   "outputs": [
    {
     "data": {
      "image/png": "[encoded data removed]",
      "text/plain": [
       "<Figure size 1080x720 with 1 Axes>"
      ]
     },
     "metadata": {
      "needs_background": "light"
     },
     "output_type": "display_data"
    }
   ],
   "source": [
    "def_data = data.groupby('purpose')['charged_off'].agg(['sum', 'count'])\n",
    "def_data['default_rate'] = round(100*def_data['sum']/def_data['count'], 2)\n",
    "\n",
    "\n",
    "def_data[['default_rate']].plot.bar(figsize=(15,10),color='#64dbdb')\n",
    "plt.ylabel('Default Rate')\n",
    "plt.xlabel('Purpose')\n",
    "plt.show()"
   ]
  },
  {
   "cell_type": "markdown",
   "metadata": {},
   "source": [
    "Insight: Borrowers for ‘Small Business’ purpose are most likely to default.\n",
    "\n",
    "Recommendation: LC can consider taking soft measures to potential entrepreneurs of small business or startups\n",
    "depending on borrowers’ plan to utilize the credit and repay. \n"
   ]
  },
  {
   "cell_type": "markdown",
   "metadata": {},
   "source": [
    "# Interest rate analysis"
   ]
  },
  {
   "cell_type": "code",
   "execution_count": 57,
   "metadata": {},
   "outputs": [
    {
     "data": {
      "image/png": "[encoded data removed]",
      "text/plain": [
       "<Figure size 720x576 with 1 Axes>"
      ]
     },
     "metadata": {
      "needs_background": "light"
     },
     "output_type": "display_data"
    }
   ],
   "source": [
    "#bivariate analysis\n",
    "int_inc_plot = data.sample(frac=0.005,random_state=1)\n",
    "\n",
    "plt.figure(figsize=(10,8))\n",
    "ax = sns.regplot(x=\"annual_inc\", y=\"int_rate\", data=int_inc_plot,color='#64dbdb')\n",
    "ax = plt.xlabel('Annual Income')\n",
    "ax = plt.ylabel('Interest Rate')\n",
    "ax = plt.title('Interest Rate vs Annual Income')"
   ]
  },
  {
   "cell_type": "markdown",
   "metadata": {},
   "source": [
    "There seems to have slight positive relation between interest rate and annual income. Suspecion: high income earners are expected to good loan customer and often charged reasonable rates unless they have tough credit record issues. So we can understand that majority of large loans are being taken by groups having lower grade (evidence shown below)."
   ]
  },
  {
   "cell_type": "code",
   "execution_count": 70,
   "metadata": {},
   "outputs": [
    {
     "data": {
      "text/plain": [
       "E    78\n",
       "B    76\n",
       "C    62\n",
       "D    56\n",
       "F    37\n",
       "A    30\n",
       "G    17\n",
       "Name: grade, dtype: int64"
      ]
     },
     "execution_count": 70,
     "metadata": {},
     "output_type": "execute_result"
    }
   ],
   "source": [
    "#large loans are being taken by groups having lower grade \n",
    "data[(data.funded_amnt_inv.values > data.funded_amnt_inv.quantile(0.99))]['grade'].value_counts()"
   ]
  },
  {
   "cell_type": "code",
   "execution_count": 69,
   "metadata": {},
   "outputs": [
    {
     "data": {
      "text/plain": [
       "<matplotlib.axes._subplots.AxesSubplot at 0x2b8bb049a30>"
      ]
     },
     "execution_count": 69,
     "metadata": {},
     "output_type": "execute_result"
    },
    {
     "data": {
      "image/png": "[encoded data removed]",
      "text/plain": [
       "<Figure size 576x432 with 1 Axes>"
      ]
     },
     "metadata": {},
     "output_type": "display_data"
    }
   ],
   "source": [
    "#Derived Metrics (extracting new feature out of existing feature 'int_rate')\n",
    "#Binning Interest rates\n",
    "\n",
    "group_names = ['low_interest', 'medium_interest' ,'high_interest']\n",
    "bins = [5, 12, 18, 25]\n",
    "data['interest_range'] = pd.cut(data['int_rate'], bins, labels=group_names)\n",
    "\n",
    "plt.subplots(figsize=(8,6))\n",
    "data.groupby('interest_range')['int_rate'].count().plot.pie()"
   ]
  },
  {
   "cell_type": "code",
   "execution_count": null,
   "metadata": {},
   "outputs": [],
   "source": []
  },
  {
   "cell_type": "code",
   "execution_count": 60,
   "metadata": {},
   "outputs": [
    {
     "data": {
      "image/png": "[encoded data removed]",
      "text/plain": [
       "<Figure size 1080x864 with 1 Axes>"
      ]
     },
     "metadata": {
      "needs_background": "light"
     },
     "output_type": "display_data"
    }
   ],
   "source": [
    "#bivariate analysis\n",
    "\n",
    "plt.figure(figsize=(15,12))\n",
    "sns.boxplot(data =data, x='income_range', y='int_rate', hue ='loan_status')\n",
    "plt.title('Interest rate vs Income Range')\n",
    "plt.xlabel('Income range')\n",
    "plt.ylabel('Interest rate')\n",
    "plt.show()"
   ]
  },
  {
   "cell_type": "markdown",
   "metadata": {},
   "source": [
    "Insight: In both ‘high income’ and ‘mid range income’ basket, the median interest rate borne by charged-off group is equivalent to the upper limit (75th percentile) interest rate borne by the group ‘fully-paid’\n",
    "\n",
    "Recommendation: LC can decide upon flexing interest rate to balance the weight upon different income groups in order to minimize default.\n"
   ]
  },
  {
   "cell_type": "markdown",
   "metadata": {},
   "source": [
    "## Interest Rate vs Issue year"
   ]
  },
  {
   "cell_type": "code",
   "execution_count": 61,
   "metadata": {},
   "outputs": [
    {
     "data": {
      "image/png": "[encoded data removed]",
      "text/plain": [
       "<Figure size 1080x864 with 1 Axes>"
      ]
     },
     "metadata": {
      "needs_background": "light"
     },
     "output_type": "display_data"
    }
   ],
   "source": [
    "\n",
    "plt.figure(figsize=(15,12))\n",
    "sns.boxplot(data =data, x='issue_year', y='int_rate', hue ='loan_status')\n",
    "plt.title('Interest rate vs Issue year')\n",
    "plt.xlabel('Issue year')\n",
    "plt.ylabel('Interest rate')\n",
    "plt.show()"
   ]
  },
  {
   "cell_type": "markdown",
   "metadata": {},
   "source": [
    "Insight: The Charged-Off group has been experiencing higher median interest, this says interest is one major issue! The number of charge-off case increasing as well as their median interest rate.\n",
    "\n",
    "Recommendation: LC can consider determining better calculation of interest rate"
   ]
  },
  {
   "cell_type": "markdown",
   "metadata": {},
   "source": [
    "## Interest Rate vs Income & Loan Sub Grade"
   ]
  },
  {
   "cell_type": "code",
   "execution_count": 62,
   "metadata": {},
   "outputs": [
    {
     "data": {
      "image/png": "[encoded data removed]",
      "text/plain": [
       "<Figure size 1080x720 with 1 Axes>"
      ]
     },
     "metadata": {
      "needs_background": "light"
     },
     "output_type": "display_data"
    }
   ],
   "source": [
    "#bivariate analysis\n",
    "\n",
    "data_int = pd.pivot_table(data= data, columns= 'loan_status', values='int_rate', index='sub_grade', aggfunc= 'median')\n",
    "data_int.plot(kind=\"bar\",figsize=[15,10])\n",
    "plt.xlabel('Sub Grade')\n",
    "plt.ylabel('Interest Rate (median)')\n",
    "plt.show()"
   ]
  },
  {
   "cell_type": "markdown",
   "metadata": {},
   "source": [
    "Insight: Notice that there are spikes in the median interest rate charged on the sub-grade D5, E5, F1, F2, F4, F5, G1.\n",
    "\n",
    "Recommendation: LC can consider determining new range of interest rate to be charged on these loan sub grade.\n"
   ]
  },
  {
   "cell_type": "markdown",
   "metadata": {},
   "source": [
    "\n"
   ]
  },
  {
   "cell_type": "markdown",
   "metadata": {},
   "source": [
    "# Sub Grade Analysis"
   ]
  },
  {
   "cell_type": "markdown",
   "metadata": {},
   "source": [
    "#### Transforming lending Club's sub-grade to numeric value 'Score'\n"
   ]
  },
  {
   "cell_type": "code",
   "execution_count": 63,
   "metadata": {},
   "outputs": [
    {
     "data": {
      "text/html": [
       "<div>\n",
       "<style scoped>\n",
       "    .dataframe tbody tr th:only-of-type {\n",
       "        vertical-align: middle;\n",
       "    }\n",
       "\n",
       "    .dataframe tbody tr th {\n",
       "        vertical-align: top;\n",
       "    }\n",
       "\n",
       "    .dataframe thead th {\n",
       "        text-align: right;\n",
       "    }\n",
       "</style>\n",
       "<table border=\"1\" class=\"dataframe\">\n",
       "  <thead>\n",
       "    <tr style=\"text-align: right;\">\n",
       "      <th></th>\n",
       "      <th>id</th>\n",
       "      <th>addr_state</th>\n",
       "      <th>grade</th>\n",
       "      <th>sub_grade</th>\n",
       "      <th>loan_amnt</th>\n",
       "      <th>funded_amnt_inv</th>\n",
       "      <th>int_rate</th>\n",
       "      <th>term</th>\n",
       "      <th>installment</th>\n",
       "      <th>loan_status</th>\n",
       "      <th>charged_off</th>\n",
       "      <th>purpose</th>\n",
       "      <th>annual_inc</th>\n",
       "      <th>verification_status</th>\n",
       "      <th>dti</th>\n",
       "      <th>emp_length</th>\n",
       "      <th>home_ownership</th>\n",
       "      <th>total_pymnt_inv</th>\n",
       "      <th>total_rec_prncp</th>\n",
       "      <th>total_rec_int</th>\n",
       "      <th>total_rec_late_fee</th>\n",
       "      <th>recoveries</th>\n",
       "      <th>issue_year</th>\n",
       "      <th>issue_month</th>\n",
       "      <th>income_range</th>\n",
       "      <th>interest_range</th>\n",
       "      <th>score</th>\n",
       "    </tr>\n",
       "  </thead>\n",
       "  <tbody>\n",
       "    <tr>\n",
       "      <th>0</th>\n",
       "      <td>1077501</td>\n",
       "      <td>AZ</td>\n",
       "      <td>B</td>\n",
       "      <td>B2</td>\n",
       "      <td>5000</td>\n",
       "      <td>4975.0</td>\n",
       "      <td>10.65</td>\n",
       "      <td>36</td>\n",
       "      <td>162.87</td>\n",
       "      <td>Fully Paid</td>\n",
       "      <td>0</td>\n",
       "      <td>credit_card</td>\n",
       "      <td>24000.0</td>\n",
       "      <td>Verified</td>\n",
       "      <td>27.65</td>\n",
       "      <td>10+ years</td>\n",
       "      <td>RENT</td>\n",
       "      <td>5833.84</td>\n",
       "      <td>5000.00</td>\n",
       "      <td>863.16</td>\n",
       "      <td>0.0</td>\n",
       "      <td>0.00</td>\n",
       "      <td>2011</td>\n",
       "      <td>12</td>\n",
       "      <td>low_income</td>\n",
       "      <td>low_interest</td>\n",
       "      <td>86.0</td>\n",
       "    </tr>\n",
       "    <tr>\n",
       "      <th>1</th>\n",
       "      <td>1077430</td>\n",
       "      <td>GA</td>\n",
       "      <td>C</td>\n",
       "      <td>C4</td>\n",
       "      <td>2500</td>\n",
       "      <td>2500.0</td>\n",
       "      <td>15.27</td>\n",
       "      <td>60</td>\n",
       "      <td>59.83</td>\n",
       "      <td>Charged Off</td>\n",
       "      <td>1</td>\n",
       "      <td>car</td>\n",
       "      <td>30000.0</td>\n",
       "      <td>Source Verified</td>\n",
       "      <td>1.00</td>\n",
       "      <td>1 year</td>\n",
       "      <td>RENT</td>\n",
       "      <td>1008.71</td>\n",
       "      <td>456.46</td>\n",
       "      <td>435.17</td>\n",
       "      <td>0.0</td>\n",
       "      <td>117.08</td>\n",
       "      <td>2011</td>\n",
       "      <td>12</td>\n",
       "      <td>low_income</td>\n",
       "      <td>medium_interest</td>\n",
       "      <td>72.0</td>\n",
       "    </tr>\n",
       "    <tr>\n",
       "      <th>2</th>\n",
       "      <td>1077175</td>\n",
       "      <td>IL</td>\n",
       "      <td>C</td>\n",
       "      <td>C5</td>\n",
       "      <td>2400</td>\n",
       "      <td>2400.0</td>\n",
       "      <td>15.96</td>\n",
       "      <td>36</td>\n",
       "      <td>84.33</td>\n",
       "      <td>Fully Paid</td>\n",
       "      <td>0</td>\n",
       "      <td>small_business</td>\n",
       "      <td>12252.0</td>\n",
       "      <td>Not Verified</td>\n",
       "      <td>8.72</td>\n",
       "      <td>10+ years</td>\n",
       "      <td>RENT</td>\n",
       "      <td>3005.67</td>\n",
       "      <td>2400.00</td>\n",
       "      <td>605.67</td>\n",
       "      <td>0.0</td>\n",
       "      <td>0.00</td>\n",
       "      <td>2011</td>\n",
       "      <td>12</td>\n",
       "      <td>low_income</td>\n",
       "      <td>medium_interest</td>\n",
       "      <td>70.0</td>\n",
       "    </tr>\n",
       "  </tbody>\n",
       "</table>\n",
       "</div>"
      ],
      "text/plain": [
       "        id addr_state grade sub_grade  loan_amnt  funded_amnt_inv  int_rate  \\\n",
       "0  1077501         AZ     B        B2       5000           4975.0     10.65   \n",
       "1  1077430         GA     C        C4       2500           2500.0     15.27   \n",
       "2  1077175         IL     C        C5       2400           2400.0     15.96   \n",
       "\n",
       "   term  installment  loan_status  charged_off         purpose  annual_inc  \\\n",
       "0    36       162.87   Fully Paid            0     credit_card     24000.0   \n",
       "1    60        59.83  Charged Off            1             car     30000.0   \n",
       "2    36        84.33   Fully Paid            0  small_business     12252.0   \n",
       "\n",
       "  verification_status    dti emp_length home_ownership  total_pymnt_inv  \\\n",
       "0            Verified  27.65  10+ years           RENT          5833.84   \n",
       "1     Source Verified   1.00     1 year           RENT          1008.71   \n",
       "2        Not Verified   8.72  10+ years           RENT          3005.67   \n",
       "\n",
       "   total_rec_prncp  total_rec_int  total_rec_late_fee  recoveries  issue_year  \\\n",
       "0          5000.00         863.16                 0.0        0.00        2011   \n",
       "1           456.46         435.17                 0.0      117.08        2011   \n",
       "2          2400.00         605.67                 0.0        0.00        2011   \n",
       "\n",
       "   issue_month income_range   interest_range  score  \n",
       "0           12   low_income     low_interest   86.0  \n",
       "1           12   low_income  medium_interest   72.0  \n",
       "2           12   low_income  medium_interest   70.0  "
      ]
     },
     "execution_count": 63,
     "metadata": {},
     "output_type": "execute_result"
    }
   ],
   "source": [
    "\n",
    "score_percentage = np.arange(0.3,1, 0.02)\n",
    "\n",
    "sub_grade = ['G5', 'G4', 'G3', 'G2', 'G1','F5','F4', 'F3', 'F2', 'F1',\n",
    "     'E5', 'E4', 'E3', 'E2', 'E1','D5', 'D4', 'D3', 'D2', 'D1',\n",
    "     'C5','C4', 'C3', 'C2', 'C1','B5','B4', 'B3', 'B2', 'B1',\n",
    "     'A5', 'A4', 'A3', 'A2', 'A1']\n",
    "\n",
    "score_data = pd.DataFrame({'sub_grade': sub_grade,\n",
    "                  'score': score_percentage})\n",
    "data1 = pd.merge(data,score_data, on= 'sub_grade', how='left')\n",
    "data1['score'] = data1['score']*100\n",
    "data1['score'] = data1['score'].round()\n",
    "\n",
    "data1.head(3) #data with score variable"
   ]
  },
  {
   "cell_type": "markdown",
   "metadata": {},
   "source": [
    "Percentage Value assigned on sub-grade\n",
    "\n",
    "A5-A1 --> 91-100\n",
    "\n",
    "B5-B1 --> 81-90\n",
    "\n",
    "C5-C1 --> 71-80\n",
    "\n",
    "D5-D1 --> 61-70\n",
    "\n",
    "E5-E1 --> 51-60\n",
    "\n",
    "F5-F1 --> 41-50\n",
    "\n",
    "G5-G1 --> 31-40"
   ]
  },
  {
   "cell_type": "code",
   "execution_count": null,
   "metadata": {},
   "outputs": [],
   "source": []
  },
  {
   "cell_type": "code",
   "execution_count": 64,
   "metadata": {},
   "outputs": [
    {
     "data": {
      "text/html": [
       "<div>\n",
       "<style scoped>\n",
       "    .dataframe tbody tr th:only-of-type {\n",
       "        vertical-align: middle;\n",
       "    }\n",
       "\n",
       "    .dataframe tbody tr th {\n",
       "        vertical-align: top;\n",
       "    }\n",
       "\n",
       "    .dataframe thead th {\n",
       "        text-align: right;\n",
       "    }\n",
       "</style>\n",
       "<table border=\"1\" class=\"dataframe\">\n",
       "  <thead>\n",
       "    <tr style=\"text-align: right;\">\n",
       "      <th></th>\n",
       "      <th>loan_amnt</th>\n",
       "      <th>funded_amnt_inv</th>\n",
       "      <th>int_rate</th>\n",
       "      <th>annual_inc</th>\n",
       "      <th>dti</th>\n",
       "      <th>score</th>\n",
       "    </tr>\n",
       "  </thead>\n",
       "  <tbody>\n",
       "    <tr>\n",
       "      <th>loan_amnt</th>\n",
       "      <td>1.000000</td>\n",
       "      <td>0.935958</td>\n",
       "      <td>0.291048</td>\n",
       "      <td>0.397932</td>\n",
       "      <td>0.089437</td>\n",
       "      <td>-0.289120</td>\n",
       "    </tr>\n",
       "    <tr>\n",
       "      <th>funded_amnt_inv</th>\n",
       "      <td>0.935958</td>\n",
       "      <td>1.000000</td>\n",
       "      <td>0.289477</td>\n",
       "      <td>0.377559</td>\n",
       "      <td>0.096616</td>\n",
       "      <td>-0.265683</td>\n",
       "    </tr>\n",
       "    <tr>\n",
       "      <th>int_rate</th>\n",
       "      <td>0.291048</td>\n",
       "      <td>0.289477</td>\n",
       "      <td>1.000000</td>\n",
       "      <td>0.050378</td>\n",
       "      <td>0.114082</td>\n",
       "      <td>-0.960484</td>\n",
       "    </tr>\n",
       "    <tr>\n",
       "      <th>annual_inc</th>\n",
       "      <td>0.397932</td>\n",
       "      <td>0.377559</td>\n",
       "      <td>0.050378</td>\n",
       "      <td>1.000000</td>\n",
       "      <td>-0.078883</td>\n",
       "      <td>-0.060310</td>\n",
       "    </tr>\n",
       "    <tr>\n",
       "      <th>dti</th>\n",
       "      <td>0.089437</td>\n",
       "      <td>0.096616</td>\n",
       "      <td>0.114082</td>\n",
       "      <td>-0.078883</td>\n",
       "      <td>1.000000</td>\n",
       "      <td>-0.104836</td>\n",
       "    </tr>\n",
       "    <tr>\n",
       "      <th>score</th>\n",
       "      <td>-0.289120</td>\n",
       "      <td>-0.265683</td>\n",
       "      <td>-0.960484</td>\n",
       "      <td>-0.060310</td>\n",
       "      <td>-0.104836</td>\n",
       "      <td>1.000000</td>\n",
       "    </tr>\n",
       "  </tbody>\n",
       "</table>\n",
       "</div>"
      ],
      "text/plain": [
       "                 loan_amnt  funded_amnt_inv  int_rate  annual_inc       dti  \\\n",
       "loan_amnt         1.000000         0.935958  0.291048    0.397932  0.089437   \n",
       "funded_amnt_inv   0.935958         1.000000  0.289477    0.377559  0.096616   \n",
       "int_rate          0.291048         0.289477  1.000000    0.050378  0.114082   \n",
       "annual_inc        0.397932         0.377559  0.050378    1.000000 -0.078883   \n",
       "dti               0.089437         0.096616  0.114082   -0.078883  1.000000   \n",
       "score            -0.289120        -0.265683 -0.960484   -0.060310 -0.104836   \n",
       "\n",
       "                    score  \n",
       "loan_amnt       -0.289120  \n",
       "funded_amnt_inv -0.265683  \n",
       "int_rate        -0.960484  \n",
       "annual_inc      -0.060310  \n",
       "dti             -0.104836  \n",
       "score            1.000000  "
      ]
     },
     "execution_count": 64,
     "metadata": {},
     "output_type": "execute_result"
    }
   ],
   "source": [
    "#Finding correlation\n",
    "data_correl = data1[['loan_amnt','funded_amnt_inv','int_rate','annual_inc', 'dti', 'score']]\n",
    "data_correl.corr()"
   ]
  },
  {
   "cell_type": "code",
   "execution_count": 65,
   "metadata": {},
   "outputs": [
    {
     "data": {
      "image/png": "[encoded data removed]",
      "text/plain": [
       "<Figure size 1080x720 with 2 Axes>"
      ]
     },
     "metadata": {
      "needs_background": "light"
     },
     "output_type": "display_data"
    }
   ],
   "source": [
    "#bivariate analysis\n",
    "\n",
    "data_correl = data1[['loan_amnt','funded_amnt_inv','int_rate','annual_inc', 'dti', 'score']]\n",
    "correl = data_correl.corr()\n",
    "\n",
    "f, ax = plt.subplots(figsize=(15,10))\n",
    "sns.heatmap(correl, xticklabels= correl.columns.values, yticklabels= correl.columns.values, annot=True)\n",
    "plt.show()"
   ]
  },
  {
   "cell_type": "markdown",
   "metadata": {},
   "source": [
    "Note: Scores are assigned between the range 30%-100% with variation of 2% for individual loan subgrades from G5 to A1.\n",
    "\n",
    "Insight: Watching the strong negative correlation between score and interest rate, I can say that a person with a good score (i.e: good loan sub-grade) has a strong chance of obtaining very favorable interest rate. However we can not say that person is as likely to apply for large amount. \n",
    "\n",
    "Recommendation: This is where LC can shed focus and figure out opportunity of marketing their loan facilities to attract potential borrowers in order to improve this correlation in future.\n"
   ]
  },
  {
   "cell_type": "code",
   "execution_count": 66,
   "metadata": {},
   "outputs": [
    {
     "data": {
      "image/png": "[encoded data removed]",
      "text/plain": [
       "<Figure size 720x576 with 1 Axes>"
      ]
     },
     "metadata": {
      "needs_background": "light"
     },
     "output_type": "display_data"
    }
   ],
   "source": [
    "#Segmented univariate Analysis\n",
    "\n",
    "risky_loan = data1[data1.score.values < data1.score.quantile(0.05)]\n",
    "pd.pivot_table(data= risky_loan, columns= 'loan_status', values='score', index='sub_grade', aggfunc= 'count').plot(kind=\"bar\", figsize=[10,8])\n",
    "plt.show()\n",
    "\n",
    "#Note the vertical value here is COUNT of the scores"
   ]
  },
  {
   "cell_type": "code",
   "execution_count": 67,
   "metadata": {},
   "outputs": [
    {
     "data": {
      "text/plain": [
       "Fully Paid     992\n",
       "Charged Off    465\n",
       "Name: loan_status, dtype: int64"
      ]
     },
     "execution_count": 67,
     "metadata": {},
     "output_type": "execute_result"
    }
   ],
   "source": [
    "risky_loan.loan_status.value_counts()"
   ]
  },
  {
   "cell_type": "markdown",
   "metadata": {},
   "source": [
    "$NOTE:$ Below 5th percentile of score range, the $cost$ of 10 good customer is $loss$ from approx 5 bad customers; so LC managment can consider this vital information in their cost benefit analysis in risk managment or financial risk diversification."
   ]
  },
  {
   "cell_type": "markdown",
   "metadata": {},
   "source": [
    "## Loan Term vs Issue Month"
   ]
  },
  {
   "cell_type": "code",
   "execution_count": 68,
   "metadata": {},
   "outputs": [
    {
     "data": {
      "image/png": "[encoded data removed]",
      "text/plain": [
       "<Figure size 720x576 with 1 Axes>"
      ]
     },
     "metadata": {
      "needs_background": "light"
     },
     "output_type": "display_data"
    }
   ],
   "source": [
    "pd.pivot_table(data= risky_loan, columns= 'term', values='loan_amnt', index='issue_month', aggfunc= 'mean').plot(kind=\"bar\", figsize=[10,8])\n",
    "plt.xlabel('Issue Months')\n",
    "plt.ylabel('Loan Amount')\n",
    "plt.show()\n"
   ]
  },
  {
   "cell_type": "markdown",
   "metadata": {},
   "source": [
    "Insight: The demand for 36-Month Term loans seems to decrease in the second and third quarter of the year.\n",
    "\n",
    "Recommendation: Lending Club can prioritize more in availing funds for 36-month term loans in first and last quarter of the year;  and focus  gathering funds for 60-month term loans in second and third quarter of the year.\n"
   ]
  },
  {
   "cell_type": "code",
   "execution_count": null,
   "metadata": {},
   "outputs": [],
   "source": []
  },
  {
   "cell_type": "markdown",
   "metadata": {},
   "source": [
    "So the top 6 important driver variables we can strongly suggest:\n",
    "\n",
    "1) Annual Income – As different mid range income earner are most defaulting especially those who pay rent or mortgage for residence.\n",
    "2) Address State – As a particular state (e.g: Nebraska in our case) can show high rate of defaulting.\n",
    "\n",
    "3) Interest Rate – As population with Charged-Off loan status has been experiencing rising interest rate every year.\n",
    "\n",
    "4) Loan Terms- As demand for the 2 different loan terms vary across different quarters of the year. \n",
    "\n",
    "5) Purpose – As particular category (e.g: small business in our case) may have significantly high rate of defaulting.\n",
    "\n",
    "6) Loan Sub Grade – As particular loan sub grades tend to default significantly higher.\n"
   ]
  },
  {
   "cell_type": "code",
   "execution_count": null,
   "metadata": {},
   "outputs": [],
   "source": []
  },
  {
   "cell_type": "markdown",
   "metadata": {},
   "source": [
    "**** THANK YOU ****"
   ]
  },
  {
   "cell_type": "code",
   "execution_count": null,
   "metadata": {},
   "outputs": [],
   "source": []
  },
  {
   "cell_type": "code",
   "execution_count": null,
   "metadata": {},
   "outputs": [],
   "source": []
  },
  {
   "cell_type": "code",
   "execution_count": null,
   "metadata": {},
   "outputs": [],
   "source": []
  }
 ],
 "metadata": {
  "kernelspec": {
   "display_name": "Python 3",
   "language": "python",
   "name": "python3"
  },
  "language_info": {
   "codemirror_mode": {
    "name": "ipython",
    "version": 3
   },
   "file_extension": ".py",
   "mimetype": "text/x-python",
   "name": "python",
   "nbconvert_exporter": "python",
   "pygments_lexer": "ipython3",
   "version": "3.8.3"
  }
 },
 "nbformat": 4,
 "nbformat_minor": 4
}
